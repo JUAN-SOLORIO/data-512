{
 "cells": [
  {
   "cell_type": "markdown",
   "metadata": {},
   "source": [
    "# Understanding Police Shootings and Excessive Use of Force in Seattle\n",
    "\n",
    "## DATA 512: Human Center Design - Final Project\n",
    "### Juan Solorio"
   ]
  },
  {
   "cell_type": "markdown",
   "metadata": {},
   "source": [
    "## Motivation and Goal\n",
    "\n",
    "Police violence and excess force or police brutality have always been a major area of concern for citizens especially among minority and underrepresented communities. In more recent times, over the last few months we’ve experience the social unrest and rightful outcry through the use of protests and marches from these communities to call out said brutality. \n",
    "\n",
    "Taking [mappingpoliceviolence.org]( https://mappingpoliceviolence.org/) as reference, in 2020 alone, police have killed over 800 people across the United States. With Black people making up 28% of those killed by police.\n",
    "\n",
    "For this project I plan to explore the demographics of police officers involved in shootings and use of force from the city of Seattle to gain a better understanding as to how might this have an effect on the type of response taken by said officers.\n"
   ]
  },
  {
   "cell_type": "markdown",
   "metadata": {},
   "source": [
    "## Data\n",
    "\n",
    "For the project I will be using the data provided by the [City of Seattle Open Data Program]( https://data.seattle.gov/browse?category=Public+Safety&provenance=official&page=2). Primarily I will be using three datasets, one for [SPD Officer Involved Shooting]( https://data.seattle.gov/Public-Safety/SPD-Officer-Involved-Shooting-OIS-Data/mg5r-efcm), one for [Police Use of Force]( https://data.seattle.gov/Public-Safety/Use-Of-Force/ppi5-g2bj), and one for [Seattle PD Officers respoding to Crisis Calls]( https://data.seattle.gov/Public-Safety/Crisis-Data/i2q9-thny). \n",
    "\n",
    "These datasets contain demographic information on Police Officers involved in the offence as well as that of the civilian victim. The data also contains geographical and temporal information which could give better insights as to how these events are affected by location or time.\n"
   ]
  },
  {
   "cell_type": "markdown",
   "metadata": {},
   "source": [
    "## Research Questions \n",
    "\n",
    "The project will focus to answer the following:\n",
    "1. Are certain demographics of police officers more likely to be involved in shootings?\n",
    "    - are there certain pairing of police-to-victim demographics that appear more in the data?\n",
    "2. Is there a precinct (geographical location) that shows more propencity to using force?\n",
    "3. Is there a relation between the age of an officer or years of experience and their response to a crisis?"
   ]
  },
  {
   "cell_type": "markdown",
   "metadata": {},
   "source": [
    "## Methodology\n",
    "\n",
    "Data has been downloaded from [Seattle Open Data API]( https://data.seattle.gov/) on November 14 2020 and hense that is as far as it will be evaluated. This data will be located in the [data]( https://github.com/JUAN-SOLORIO/data-512/tree/main/data-512-final/data) directory for this repository.\n",
    "\n",
    "I will be using pandas and numpy to perform data cleaning and preprocessing of the data. In order to answers the research questions a combination of pandas tables, data visualizations, and statistical methods (possibly t-tests) will be used."
   ]
  },
  {
   "cell_type": "markdown",
   "metadata": {},
   "source": [
    "## Related Work\n",
    "\n",
    "While there is plenty of research on police brutality and shootings from academic and journalist sources, the research was primarily inspired by the work of [Samuel Sinyangwe])( https://samswey.carto.com/me?utm_source=Footer_Link&utm_medium=referral&utm_campaign=Embed_v1&utm_content=samswey). He is part of a group of data scientist working towards social and racial progress known as *We the Protestors*, who use digital and data analisys tools to bring awareness to issues such as police violence.\n",
    "\n",
    "Some of this work can be seen in the [mappingpoliceviolence.org]( https://mappingpoliceviolence.org/) website, where we are able to get update information about polive related violance and shootings across the United States.\n"
   ]
  },
  {
   "cell_type": "markdown",
   "metadata": {},
   "source": [
    "## Unknowns and dependencies\n",
    "\n",
    "At the moment I dont have major concerns over the completion of the project except for the posibility that I would like to explore an extra dataset about [Housing and Rental values (Zillow)](https://www.zillow.com/research/data/) and see how these reflect on the Police data."
   ]
  },
  {
   "cell_type": "code",
   "execution_count": 6,
   "metadata": {},
   "outputs": [],
   "source": [
    "# downloading data\n",
    "import os\n",
    "from urllib.request import urlretrieve\n",
    "import time\n",
    "\n",
    "\n",
    "# data manipulation and EAD\n",
    "import numpy as np\n",
    "import pandas as pd\n",
    "\n",
    "# statistics and analysis\n",
    "import statsmodels.api as sm\n",
    "import statsmodels.formula.api as smf\n",
    "\n",
    "# visulization\n",
    "import matplotlib.pyplot as plt\n",
    "import seaborn as sns\n",
    "%matplotlib inline"
   ]
  },
  {
   "cell_type": "code",
   "execution_count": 49,
   "metadata": {},
   "outputs": [],
   "source": [
    "# Data download URLs\n",
    "SHOOTING_API = 'https://data.seattle.gov/resource/mg5r-efcm.json'\n",
    "FORCE_USE_API = 'https://data.seattle.gov/resource/ppi5-g2bj.json'\n",
    "CRISIS_API = 'https://data.seattle.gov/resource/i2q9-thny.json'\n",
    "\n",
    "urls = {SHOOTING_API :'spd_officer_shooting',\n",
    "        FORCE_USE_API:'spd_use_of_force',\n",
    "        CRISIS_API : 'spd_crisis_data'}\n",
    "\n",
    "timestr = time.strftime(\"%Y%m%d\")\n",
    "\n",
    "\n",
    "def download_json_to_csv_data(url, file_name):\n",
    "    \"\"\"\n",
    "        Downloads the data from data.Seattle.gov and places it into \"data\" folder\n",
    "    \"\"\"\n",
    "    if not os.path.exists('data'):\n",
    "        os.makedirs('data')\n",
    "        \n",
    "    if not os.path.exists('data/'+file_name+timestr+'.csv'):\n",
    "        data = pd.read_json(url)\n",
    "        \n",
    "    return data.to_csv(file_name)\n",
    "\n",
    "for url, file in urls.items():\n",
    "    download_json_to_csv_data(url,'data/'+file+timestr+'.csv')\n",
    "\n",
    "\n",
    "# load data to dataframes\n",
    "shooting_raw_data = pd.read_csv('data/spd_officer_shooting_20201114.csv')\n",
    "useforce_raw_data = pd.read_csv('data/spd_use_of_force_20201114.csv')\n",
    "crisis_data_raw = pd.read_csv('data/spd_crisis_data_20201114.csv')"
   ]
  },
  {
   "cell_type": "code",
   "execution_count": null,
   "metadata": {},
   "outputs": [],
   "source": []
  },
  {
   "cell_type": "code",
   "execution_count": 52,
   "metadata": {},
   "outputs": [
    {
     "data": {
      "text/html": [
       "<div>\n",
       "<style scoped>\n",
       "    .dataframe tbody tr th:only-of-type {\n",
       "        vertical-align: middle;\n",
       "    }\n",
       "\n",
       "    .dataframe tbody tr th {\n",
       "        vertical-align: top;\n",
       "    }\n",
       "\n",
       "    .dataframe thead th {\n",
       "        text-align: right;\n",
       "    }\n",
       "</style>\n",
       "<table border=\"1\" class=\"dataframe\">\n",
       "  <thead>\n",
       "    <tr style=\"text-align: right;\">\n",
       "      <th></th>\n",
       "      <th>FRB #</th>\n",
       "      <th>Incident Number</th>\n",
       "      <th>Date / Time</th>\n",
       "      <th>Blurred Address</th>\n",
       "      <th>Longitude</th>\n",
       "      <th>Latitude</th>\n",
       "      <th>City</th>\n",
       "      <th>State</th>\n",
       "      <th>Rank</th>\n",
       "      <th>Officer Gender</th>\n",
       "      <th>...</th>\n",
       "      <th>Subject Race</th>\n",
       "      <th>Subject DOB</th>\n",
       "      <th>Subject Age</th>\n",
       "      <th>Subject Weapon</th>\n",
       "      <th>Type of Weapon</th>\n",
       "      <th>Fatal</th>\n",
       "      <th>On-duty</th>\n",
       "      <th>Disposition</th>\n",
       "      <th>Officer Disciplined?</th>\n",
       "      <th>Summary</th>\n",
       "    </tr>\n",
       "  </thead>\n",
       "  <tbody>\n",
       "    <tr>\n",
       "      <th>0</th>\n",
       "      <td>FRB 05-01</td>\n",
       "      <td>20050000118193</td>\n",
       "      <td>03/21/2005 06:28:00 PM</td>\n",
       "      <td>65XX BLOCK OF RAINIER AV S</td>\n",
       "      <td>-122.273741</td>\n",
       "      <td>47.543815</td>\n",
       "      <td>Seattle</td>\n",
       "      <td>WA</td>\n",
       "      <td>Officer</td>\n",
       "      <td>Male</td>\n",
       "      <td>...</td>\n",
       "      <td>Asian</td>\n",
       "      <td>1975-11-03T00:00:00.000</td>\n",
       "      <td>29</td>\n",
       "      <td>Yes</td>\n",
       "      <td>Knife</td>\n",
       "      <td>Yes</td>\n",
       "      <td>Yes</td>\n",
       "      <td>Missing</td>\n",
       "      <td>Missing</td>\n",
       "      <td>On March 21st, 2005, at approximately 5:20 P.M...</td>\n",
       "    </tr>\n",
       "    <tr>\n",
       "      <th>1</th>\n",
       "      <td>FRB 05-03</td>\n",
       "      <td>20050000174022</td>\n",
       "      <td>04/29/2005 03:30:00 AM</td>\n",
       "      <td>65XX BLOCK OF 1 AV S</td>\n",
       "      <td>-122.334513</td>\n",
       "      <td>47.544177</td>\n",
       "      <td>Seattle</td>\n",
       "      <td>WA</td>\n",
       "      <td>Officer</td>\n",
       "      <td>Male</td>\n",
       "      <td>...</td>\n",
       "      <td>White</td>\n",
       "      <td>1969-08-02T00:00:00.000</td>\n",
       "      <td>36</td>\n",
       "      <td>No</td>\n",
       "      <td>NaN</td>\n",
       "      <td>Yes</td>\n",
       "      <td>Yes</td>\n",
       "      <td>Justified</td>\n",
       "      <td>No</td>\n",
       "      <td>On April 29th, 2005, at approximately 3:35 A.M...</td>\n",
       "    </tr>\n",
       "    <tr>\n",
       "      <th>2</th>\n",
       "      <td>FRB 05-04</td>\n",
       "      <td>20050000256303</td>\n",
       "      <td>06/20/2005 11:30:00 AM</td>\n",
       "      <td>7XX BLOCK OF STEWART ST</td>\n",
       "      <td>-122.335725</td>\n",
       "      <td>47.614620</td>\n",
       "      <td>Seattle</td>\n",
       "      <td>WA</td>\n",
       "      <td>Officer</td>\n",
       "      <td>Male</td>\n",
       "      <td>...</td>\n",
       "      <td>White</td>\n",
       "      <td>1952-11-15T00:00:00.000</td>\n",
       "      <td>53</td>\n",
       "      <td>Yes</td>\n",
       "      <td>Grenade, backpack reported to have explosives</td>\n",
       "      <td>Yes</td>\n",
       "      <td>Yes</td>\n",
       "      <td>Justified</td>\n",
       "      <td>No</td>\n",
       "      <td>On June 20th, 2005, at approximately 11:30 A.M...</td>\n",
       "    </tr>\n",
       "    <tr>\n",
       "      <th>3</th>\n",
       "      <td>FRB 05-04</td>\n",
       "      <td>20050000256303</td>\n",
       "      <td>06/20/2005 12:30:00 PM</td>\n",
       "      <td>7XX BLOCK OF STEWART ST</td>\n",
       "      <td>-122.335725</td>\n",
       "      <td>47.614620</td>\n",
       "      <td>Seattle</td>\n",
       "      <td>WA</td>\n",
       "      <td>Officer</td>\n",
       "      <td>Male</td>\n",
       "      <td>...</td>\n",
       "      <td>White</td>\n",
       "      <td>1952-11-15T00:00:00.000</td>\n",
       "      <td>53</td>\n",
       "      <td>Yes</td>\n",
       "      <td>Grenade, backpack reported to have explosives</td>\n",
       "      <td>Yes</td>\n",
       "      <td>Yes</td>\n",
       "      <td>Justified</td>\n",
       "      <td>No</td>\n",
       "      <td>On June 20th, 2005, at approximately 11:30 A.M...</td>\n",
       "    </tr>\n",
       "    <tr>\n",
       "      <th>4</th>\n",
       "      <td>FRB 05-05</td>\n",
       "      <td>20050000286240</td>\n",
       "      <td>07/08/2005 01:48:00 PM</td>\n",
       "      <td>16 AV / E UNION ST</td>\n",
       "      <td>-122.311474</td>\n",
       "      <td>47.612908</td>\n",
       "      <td>Seattle</td>\n",
       "      <td>WA</td>\n",
       "      <td>Officer</td>\n",
       "      <td>Male</td>\n",
       "      <td>...</td>\n",
       "      <td>Black or African American</td>\n",
       "      <td>1957-01-28T00:00:00.000</td>\n",
       "      <td>48</td>\n",
       "      <td>Yes</td>\n",
       "      <td>Screwdriver</td>\n",
       "      <td>No</td>\n",
       "      <td>Yes</td>\n",
       "      <td>Justified</td>\n",
       "      <td>No</td>\n",
       "      <td>On July 8th, 2005, at approximately 1:45 P.M.,...</td>\n",
       "    </tr>\n",
       "  </tbody>\n",
       "</table>\n",
       "<p>5 rows × 25 columns</p>\n",
       "</div>"
      ],
      "text/plain": [
       "       FRB #  Incident Number             Date / Time  \\\n",
       "0  FRB 05-01   20050000118193  03/21/2005 06:28:00 PM   \n",
       "1  FRB 05-03   20050000174022  04/29/2005 03:30:00 AM   \n",
       "2  FRB 05-04   20050000256303  06/20/2005 11:30:00 AM   \n",
       "3  FRB 05-04   20050000256303  06/20/2005 12:30:00 PM   \n",
       "4  FRB 05-05   20050000286240  07/08/2005 01:48:00 PM   \n",
       "\n",
       "              Blurred Address   Longitude   Latitude     City State     Rank  \\\n",
       "0  65XX BLOCK OF RAINIER AV S -122.273741  47.543815  Seattle    WA  Officer   \n",
       "1        65XX BLOCK OF 1 AV S -122.334513  47.544177  Seattle    WA  Officer   \n",
       "2     7XX BLOCK OF STEWART ST -122.335725  47.614620  Seattle    WA  Officer   \n",
       "3     7XX BLOCK OF STEWART ST -122.335725  47.614620  Seattle    WA  Officer   \n",
       "4          16 AV / E UNION ST -122.311474  47.612908  Seattle    WA  Officer   \n",
       "\n",
       "  Officer Gender  ...               Subject Race              Subject DOB  \\\n",
       "0           Male  ...                      Asian  1975-11-03T00:00:00.000   \n",
       "1           Male  ...                      White  1969-08-02T00:00:00.000   \n",
       "2           Male  ...                      White  1952-11-15T00:00:00.000   \n",
       "3           Male  ...                      White  1952-11-15T00:00:00.000   \n",
       "4           Male  ...  Black or African American  1957-01-28T00:00:00.000   \n",
       "\n",
       "  Subject Age Subject Weapon                                 Type of Weapon  \\\n",
       "0          29            Yes                                          Knife   \n",
       "1          36             No                                            NaN   \n",
       "2          53            Yes  Grenade, backpack reported to have explosives   \n",
       "3          53            Yes  Grenade, backpack reported to have explosives   \n",
       "4          48            Yes                                    Screwdriver   \n",
       "\n",
       "  Fatal On-duty Disposition Officer Disciplined?  \\\n",
       "0   Yes     Yes     Missing              Missing   \n",
       "1   Yes     Yes   Justified                   No   \n",
       "2   Yes     Yes   Justified                   No   \n",
       "3   Yes     Yes   Justified                   No   \n",
       "4    No     Yes   Justified                   No   \n",
       "\n",
       "                                             Summary  \n",
       "0  On March 21st, 2005, at approximately 5:20 P.M...  \n",
       "1  On April 29th, 2005, at approximately 3:35 A.M...  \n",
       "2  On June 20th, 2005, at approximately 11:30 A.M...  \n",
       "3  On June 20th, 2005, at approximately 11:30 A.M...  \n",
       "4  On July 8th, 2005, at approximately 1:45 P.M.,...  \n",
       "\n",
       "[5 rows x 25 columns]"
      ]
     },
     "execution_count": 52,
     "metadata": {},
     "output_type": "execute_result"
    }
   ],
   "source": [
    "shooting_raw_data.head()"
   ]
  },
  {
   "cell_type": "code",
   "execution_count": 53,
   "metadata": {},
   "outputs": [
    {
     "data": {
      "text/html": [
       "<div>\n",
       "<style scoped>\n",
       "    .dataframe tbody tr th:only-of-type {\n",
       "        vertical-align: middle;\n",
       "    }\n",
       "\n",
       "    .dataframe tbody tr th {\n",
       "        vertical-align: top;\n",
       "    }\n",
       "\n",
       "    .dataframe thead th {\n",
       "        text-align: right;\n",
       "    }\n",
       "</style>\n",
       "<table border=\"1\" class=\"dataframe\">\n",
       "  <thead>\n",
       "    <tr style=\"text-align: right;\">\n",
       "      <th></th>\n",
       "      <th>ID</th>\n",
       "      <th>Incident_Num</th>\n",
       "      <th>Incident_Type</th>\n",
       "      <th>Occured_date_time</th>\n",
       "      <th>Precinct</th>\n",
       "      <th>Sector</th>\n",
       "      <th>Beat</th>\n",
       "      <th>Officer_ID</th>\n",
       "      <th>Subject_ID</th>\n",
       "      <th>Subject_Race</th>\n",
       "      <th>Subject_Gender</th>\n",
       "    </tr>\n",
       "  </thead>\n",
       "  <tbody>\n",
       "    <tr>\n",
       "      <th>0</th>\n",
       "      <td>2014UOF-0001-1377-203</td>\n",
       "      <td>251</td>\n",
       "      <td>Level 1 - Use of Force</td>\n",
       "      <td>06/07/2014 12:09:00 AM</td>\n",
       "      <td>East</td>\n",
       "      <td>CHARLIE</td>\n",
       "      <td>C2</td>\n",
       "      <td>1594</td>\n",
       "      <td>203</td>\n",
       "      <td>Black or African American</td>\n",
       "      <td>Male</td>\n",
       "    </tr>\n",
       "    <tr>\n",
       "      <th>1</th>\n",
       "      <td>2014UOF-0002-1098-166</td>\n",
       "      <td>218</td>\n",
       "      <td>Level 1 - Use of Force</td>\n",
       "      <td>05/30/2014 02:06:00 PM</td>\n",
       "      <td>East</td>\n",
       "      <td>GEORGE</td>\n",
       "      <td>G1</td>\n",
       "      <td>1673</td>\n",
       "      <td>166</td>\n",
       "      <td>White</td>\n",
       "      <td>Male</td>\n",
       "    </tr>\n",
       "    <tr>\n",
       "      <th>2</th>\n",
       "      <td>2014UOF-0003-1031-125</td>\n",
       "      <td>178</td>\n",
       "      <td>Level 1 - Use of Force</td>\n",
       "      <td>05/23/2014 05:24:00 PM</td>\n",
       "      <td>West</td>\n",
       "      <td>KING</td>\n",
       "      <td>K3</td>\n",
       "      <td>1690</td>\n",
       "      <td>125</td>\n",
       "      <td>Asian</td>\n",
       "      <td>Female</td>\n",
       "    </tr>\n",
       "    <tr>\n",
       "      <th>3</th>\n",
       "      <td>2014UOF-0004-767-126</td>\n",
       "      <td>179</td>\n",
       "      <td>Level 1 - Use of Force</td>\n",
       "      <td>05/26/2014 12:10:00 AM</td>\n",
       "      <td>East</td>\n",
       "      <td>EDWARD</td>\n",
       "      <td>E2</td>\n",
       "      <td>953</td>\n",
       "      <td>126</td>\n",
       "      <td>Black or African American</td>\n",
       "      <td>Male</td>\n",
       "    </tr>\n",
       "    <tr>\n",
       "      <th>4</th>\n",
       "      <td>2014UOF-0005-1473-172</td>\n",
       "      <td>223</td>\n",
       "      <td>Level 1 - Use of Force</td>\n",
       "      <td>06/01/2014 04:03:00 PM</td>\n",
       "      <td>South</td>\n",
       "      <td>ROBERT</td>\n",
       "      <td>R1</td>\n",
       "      <td>1145</td>\n",
       "      <td>172</td>\n",
       "      <td>Black or African American</td>\n",
       "      <td>Male</td>\n",
       "    </tr>\n",
       "  </tbody>\n",
       "</table>\n",
       "</div>"
      ],
      "text/plain": [
       "                      ID  Incident_Num           Incident_Type  \\\n",
       "0  2014UOF-0001-1377-203           251  Level 1 - Use of Force   \n",
       "1  2014UOF-0002-1098-166           218  Level 1 - Use of Force   \n",
       "2  2014UOF-0003-1031-125           178  Level 1 - Use of Force   \n",
       "3   2014UOF-0004-767-126           179  Level 1 - Use of Force   \n",
       "4  2014UOF-0005-1473-172           223  Level 1 - Use of Force   \n",
       "\n",
       "        Occured_date_time Precinct   Sector Beat  Officer_ID  Subject_ID  \\\n",
       "0  06/07/2014 12:09:00 AM     East  CHARLIE   C2        1594         203   \n",
       "1  05/30/2014 02:06:00 PM     East   GEORGE   G1        1673         166   \n",
       "2  05/23/2014 05:24:00 PM     West     KING   K3        1690         125   \n",
       "3  05/26/2014 12:10:00 AM     East   EDWARD   E2         953         126   \n",
       "4  06/01/2014 04:03:00 PM    South   ROBERT   R1        1145         172   \n",
       "\n",
       "                Subject_Race Subject_Gender  \n",
       "0  Black or African American           Male  \n",
       "1                      White           Male  \n",
       "2                      Asian         Female  \n",
       "3  Black or African American           Male  \n",
       "4  Black or African American           Male  "
      ]
     },
     "execution_count": 53,
     "metadata": {},
     "output_type": "execute_result"
    }
   ],
   "source": [
    "useforce_raw_data.head()"
   ]
  },
  {
   "cell_type": "code",
   "execution_count": 54,
   "metadata": {},
   "outputs": [
    {
     "data": {
      "text/html": [
       "<div>\n",
       "<style scoped>\n",
       "    .dataframe tbody tr th:only-of-type {\n",
       "        vertical-align: middle;\n",
       "    }\n",
       "\n",
       "    .dataframe tbody tr th {\n",
       "        vertical-align: top;\n",
       "    }\n",
       "\n",
       "    .dataframe thead th {\n",
       "        text-align: right;\n",
       "    }\n",
       "</style>\n",
       "<table border=\"1\" class=\"dataframe\">\n",
       "  <thead>\n",
       "    <tr style=\"text-align: right;\">\n",
       "      <th></th>\n",
       "      <th>Template ID</th>\n",
       "      <th>Reported Date</th>\n",
       "      <th>Reported Time</th>\n",
       "      <th>Occurred Date / Time</th>\n",
       "      <th>Call Type</th>\n",
       "      <th>Initial Call Type</th>\n",
       "      <th>Final Call Type</th>\n",
       "      <th>Disposition</th>\n",
       "      <th>Use of Force Indicator</th>\n",
       "      <th>Subject Veteran Indicator</th>\n",
       "      <th>...</th>\n",
       "      <th>Officer Race</th>\n",
       "      <th>Officer Year of Birth</th>\n",
       "      <th>Officer Years of Experience</th>\n",
       "      <th>CIT Certified Indicator</th>\n",
       "      <th>Officer Bureau Desc</th>\n",
       "      <th>Officer Precinct Desc</th>\n",
       "      <th>Officer Squad Desc</th>\n",
       "      <th>Precinct</th>\n",
       "      <th>Sector</th>\n",
       "      <th>Beat</th>\n",
       "    </tr>\n",
       "  </thead>\n",
       "  <tbody>\n",
       "    <tr>\n",
       "      <th>0</th>\n",
       "      <td>64522</td>\n",
       "      <td>2015-07-19T00:00:00</td>\n",
       "      <td>02:21:00</td>\n",
       "      <td>01/01/1900 12:00:00 AM</td>\n",
       "      <td>-</td>\n",
       "      <td>-</td>\n",
       "      <td>-</td>\n",
       "      <td>Mobile Crisis Team</td>\n",
       "      <td>N</td>\n",
       "      <td>N</td>\n",
       "      <td>...</td>\n",
       "      <td>White</td>\n",
       "      <td>1985-12-30T00:00:00</td>\n",
       "      <td>1</td>\n",
       "      <td>N</td>\n",
       "      <td>NaN</td>\n",
       "      <td>NaN</td>\n",
       "      <td>NaN</td>\n",
       "      <td>-</td>\n",
       "      <td>-</td>\n",
       "      <td>-</td>\n",
       "    </tr>\n",
       "    <tr>\n",
       "      <th>1</th>\n",
       "      <td>154284</td>\n",
       "      <td>2016-04-29T00:00:00</td>\n",
       "      <td>14:39:00</td>\n",
       "      <td>01/01/1900 12:00:00 AM</td>\n",
       "      <td>-</td>\n",
       "      <td>-</td>\n",
       "      <td>-</td>\n",
       "      <td>Crisis Clinic</td>\n",
       "      <td>N</td>\n",
       "      <td>N</td>\n",
       "      <td>...</td>\n",
       "      <td>White</td>\n",
       "      <td>1985-09-27T00:00:00</td>\n",
       "      <td>7</td>\n",
       "      <td>Y</td>\n",
       "      <td>NaN</td>\n",
       "      <td>NaN</td>\n",
       "      <td>NaN</td>\n",
       "      <td>-</td>\n",
       "      <td>-</td>\n",
       "      <td>-</td>\n",
       "    </tr>\n",
       "    <tr>\n",
       "      <th>2</th>\n",
       "      <td>78352</td>\n",
       "      <td>1900-01-01T00:00:00</td>\n",
       "      <td>00:00:00</td>\n",
       "      <td>09/01/2015 03:25:09 PM</td>\n",
       "      <td>911</td>\n",
       "      <td>PERSON IN BEHAVIORAL/EMOTIONAL CRISIS</td>\n",
       "      <td>--CRISIS COMPLAINT - GENERAL</td>\n",
       "      <td>Voluntary Committal</td>\n",
       "      <td>N</td>\n",
       "      <td>N</td>\n",
       "      <td>...</td>\n",
       "      <td>White</td>\n",
       "      <td>1982-12-31T00:00:00</td>\n",
       "      <td>-1</td>\n",
       "      <td>N</td>\n",
       "      <td>NaN</td>\n",
       "      <td>NaN</td>\n",
       "      <td>NaN</td>\n",
       "      <td>North</td>\n",
       "      <td>UNION</td>\n",
       "      <td>U2</td>\n",
       "    </tr>\n",
       "    <tr>\n",
       "      <th>3</th>\n",
       "      <td>315652</td>\n",
       "      <td>1900-01-01T00:00:00</td>\n",
       "      <td>00:00:00</td>\n",
       "      <td>10/07/2017 01:28:33 AM</td>\n",
       "      <td>911</td>\n",
       "      <td>DISTURBANCE, MISCELLANEOUS/OTHER</td>\n",
       "      <td>--CRISIS COMPLAINT - GENERAL</td>\n",
       "      <td>No Action Possible / Necessary</td>\n",
       "      <td>N</td>\n",
       "      <td>N</td>\n",
       "      <td>...</td>\n",
       "      <td>Asian</td>\n",
       "      <td>1987-09-26T00:00:00</td>\n",
       "      <td>-1</td>\n",
       "      <td>N</td>\n",
       "      <td>NaN</td>\n",
       "      <td>NaN</td>\n",
       "      <td>NaN</td>\n",
       "      <td>East</td>\n",
       "      <td>CHARLIE</td>\n",
       "      <td>C2</td>\n",
       "    </tr>\n",
       "    <tr>\n",
       "      <th>4</th>\n",
       "      <td>393200</td>\n",
       "      <td>1900-01-01T00:00:00</td>\n",
       "      <td>00:00:00</td>\n",
       "      <td>02/26/2018 12:29:35 AM</td>\n",
       "      <td>TELEPHONE OTHER, NOT 911</td>\n",
       "      <td>PROPERTY - DAMAGE</td>\n",
       "      <td>--DISTURBANCE - OTHER</td>\n",
       "      <td>No Action Possible / Necessary</td>\n",
       "      <td>N</td>\n",
       "      <td>N</td>\n",
       "      <td>...</td>\n",
       "      <td>White</td>\n",
       "      <td>1991-09-18T00:00:00</td>\n",
       "      <td>-1</td>\n",
       "      <td>N</td>\n",
       "      <td>NaN</td>\n",
       "      <td>NaN</td>\n",
       "      <td>NaN</td>\n",
       "      <td>North</td>\n",
       "      <td>UNION</td>\n",
       "      <td>U2</td>\n",
       "    </tr>\n",
       "  </tbody>\n",
       "</table>\n",
       "<p>5 rows × 25 columns</p>\n",
       "</div>"
      ],
      "text/plain": [
       "   Template ID        Reported Date Reported Time    Occurred Date / Time  \\\n",
       "0        64522  2015-07-19T00:00:00      02:21:00  01/01/1900 12:00:00 AM   \n",
       "1       154284  2016-04-29T00:00:00      14:39:00  01/01/1900 12:00:00 AM   \n",
       "2        78352  1900-01-01T00:00:00      00:00:00  09/01/2015 03:25:09 PM   \n",
       "3       315652  1900-01-01T00:00:00      00:00:00  10/07/2017 01:28:33 AM   \n",
       "4       393200  1900-01-01T00:00:00      00:00:00  02/26/2018 12:29:35 AM   \n",
       "\n",
       "                  Call Type                      Initial Call Type  \\\n",
       "0                         -                                      -   \n",
       "1                         -                                      -   \n",
       "2                       911  PERSON IN BEHAVIORAL/EMOTIONAL CRISIS   \n",
       "3                       911       DISTURBANCE, MISCELLANEOUS/OTHER   \n",
       "4  TELEPHONE OTHER, NOT 911                      PROPERTY - DAMAGE   \n",
       "\n",
       "                Final Call Type                     Disposition  \\\n",
       "0                             -              Mobile Crisis Team   \n",
       "1                             -                   Crisis Clinic   \n",
       "2  --CRISIS COMPLAINT - GENERAL             Voluntary Committal   \n",
       "3  --CRISIS COMPLAINT - GENERAL  No Action Possible / Necessary   \n",
       "4         --DISTURBANCE - OTHER  No Action Possible / Necessary   \n",
       "\n",
       "  Use of Force Indicator Subject Veteran Indicator  ... Officer Race  \\\n",
       "0                      N                         N  ...        White   \n",
       "1                      N                         N  ...        White   \n",
       "2                      N                         N  ...        White   \n",
       "3                      N                         N  ...        Asian   \n",
       "4                      N                         N  ...        White   \n",
       "\n",
       "  Officer Year of Birth Officer Years of Experience CIT Certified Indicator  \\\n",
       "0   1985-12-30T00:00:00                           1                       N   \n",
       "1   1985-09-27T00:00:00                           7                       Y   \n",
       "2   1982-12-31T00:00:00                          -1                       N   \n",
       "3   1987-09-26T00:00:00                          -1                       N   \n",
       "4   1991-09-18T00:00:00                          -1                       N   \n",
       "\n",
       "  Officer Bureau Desc Officer Precinct Desc Officer Squad Desc  Precinct  \\\n",
       "0                 NaN                   NaN                NaN         -   \n",
       "1                 NaN                   NaN                NaN         -   \n",
       "2                 NaN                   NaN                NaN     North   \n",
       "3                 NaN                   NaN                NaN      East   \n",
       "4                 NaN                   NaN                NaN     North   \n",
       "\n",
       "    Sector    Beat  \n",
       "0        -       -  \n",
       "1        -       -  \n",
       "2    UNION  U2      \n",
       "3  CHARLIE  C2      \n",
       "4    UNION  U2      \n",
       "\n",
       "[5 rows x 25 columns]"
      ]
     },
     "execution_count": 54,
     "metadata": {},
     "output_type": "execute_result"
    }
   ],
   "source": [
    "crisis_data_raw.head()"
   ]
  },
  {
   "cell_type": "code",
   "execution_count": 56,
   "metadata": {},
   "outputs": [
    {
     "data": {
      "text/plain": [
       "Index(['Template ID', 'Reported Date', 'Reported Time', 'Occurred Date / Time',\n",
       "       'Call Type', 'Initial Call Type', 'Final Call Type', 'Disposition',\n",
       "       'Use of Force Indicator', 'Subject Veteran Indicator',\n",
       "       'CIT Officer Requested', 'CIT Officer Dispatched',\n",
       "       'CIT Officer Arrived', 'Officer ID', 'Officer Gender', 'Officer Race',\n",
       "       'Officer Year of Birth', 'Officer Years of Experience',\n",
       "       'CIT Certified Indicator', 'Officer Bureau Desc',\n",
       "       'Officer Precinct Desc', 'Officer Squad Desc', 'Precinct', 'Sector',\n",
       "       'Beat'],\n",
       "      dtype='object')"
      ]
     },
     "execution_count": 56,
     "metadata": {},
     "output_type": "execute_result"
    }
   ],
   "source": [
    "crisis_data_raw.columns"
   ]
  },
  {
   "cell_type": "code",
   "execution_count": 59,
   "metadata": {},
   "outputs": [
    {
     "data": {
      "text/plain": [
       "Index(['ID', 'Incident_Num', 'Incident_Type', 'Occured_date_time', 'Precinct',\n",
       "       'Sector', 'Beat', 'Officer_ID', 'Subject_ID', 'Subject_Race',\n",
       "       'Subject_Gender'],\n",
       "      dtype='object')"
      ]
     },
     "execution_count": 59,
     "metadata": {},
     "output_type": "execute_result"
    }
   ],
   "source": [
    "useforce_raw_data.columns"
   ]
  },
  {
   "cell_type": "code",
   "execution_count": 23,
   "metadata": {},
   "outputs": [
    {
     "data": {
      "text/plain": [
       "array(['Level 1 - Use of Force', 'Level 2 - Use of Force',\n",
       "       'Level 3 - Use of Force', 'Level 3 - OIS'], dtype=object)"
      ]
     },
     "execution_count": 23,
     "metadata": {},
     "output_type": "execute_result"
    }
   ],
   "source": [
    "useforce_raw_data.incident_type.unique()"
   ]
  },
  {
   "cell_type": "code",
   "execution_count": 83,
   "metadata": {},
   "outputs": [
    {
     "data": {
      "text/plain": [
       "Index(['FRB #', 'Incident Number', 'Date / Time', 'Blurred Address',\n",
       "       'Longitude', 'Latitude', 'City', 'State', 'Rank', 'Officer Gender',\n",
       "       'Officer Race', 'Years of SPD Service', 'Officer Injured',\n",
       "       'Number of Rounds', 'Subject Gender', 'Subject Race', 'Subject DOB',\n",
       "       'Subject Age', 'Subject Weapon', 'Type of Weapon', 'Fatal', 'On-duty',\n",
       "       'Disposition', 'Officer Disciplined?', 'Summary'],\n",
       "      dtype='object')"
      ]
     },
     "execution_count": 83,
     "metadata": {},
     "output_type": "execute_result"
    }
   ],
   "source": [
    "shooting_raw_data.columns"
   ]
  },
  {
   "cell_type": "code",
   "execution_count": 84,
   "metadata": {},
   "outputs": [
    {
     "data": {
      "text/plain": [
       "Male      138\n",
       "Female     18\n",
       "Name: Officer Gender, dtype: int64"
      ]
     },
     "execution_count": 84,
     "metadata": {},
     "output_type": "execute_result"
    }
   ],
   "source": [
    "shooting_raw_data['Officer Gender'].value_counts()"
   ]
  },
  {
   "cell_type": "code",
   "execution_count": 85,
   "metadata": {},
   "outputs": [
    {
     "data": {
      "text/plain": [
       "Male      140\n",
       "Female     16\n",
       "Name: Subject Gender, dtype: int64"
      ]
     },
     "execution_count": 85,
     "metadata": {},
     "output_type": "execute_result"
    }
   ],
   "source": [
    "shooting_raw_data['Subject Gender'].value_counts()"
   ]
  },
  {
   "cell_type": "code",
   "execution_count": 86,
   "metadata": {},
   "outputs": [
    {
     "data": {
      "text/plain": [
       "White                            77\n",
       "Black or African American        55\n",
       "Asian                            14\n",
       "Not Specified                     4\n",
       "Native American                   4\n",
       "Hispanic                          1\n",
       "Nat Hawaiian/Oth Pac Islander     1\n",
       "Name: Subject Race, dtype: int64"
      ]
     },
     "execution_count": 86,
     "metadata": {},
     "output_type": "execute_result"
    }
   ],
   "source": [
    "shooting_raw_data['Subject Race'].value_counts()"
   ]
  },
  {
   "cell_type": "code",
   "execution_count": 87,
   "metadata": {},
   "outputs": [
    {
     "data": {
      "text/plain": [
       "White                            0.493590\n",
       "Black or African American        0.352564\n",
       "Asian                            0.089744\n",
       "Not Specified                    0.025641\n",
       "Native American                  0.025641\n",
       "Hispanic                         0.006410\n",
       "Nat Hawaiian/Oth Pac Islander    0.006410\n",
       "Name: Subject Race, dtype: float64"
      ]
     },
     "execution_count": 87,
     "metadata": {},
     "output_type": "execute_result"
    }
   ],
   "source": [
    "shooting_raw_data['Subject Race'].value_counts(normalize=True)"
   ]
  },
  {
   "cell_type": "code",
   "execution_count": 88,
   "metadata": {},
   "outputs": [
    {
     "data": {
      "text/plain": [
       "N    76763\n",
       "Y     1374\n",
       "Name: Use of Force Indicator, dtype: int64"
      ]
     },
     "execution_count": 88,
     "metadata": {},
     "output_type": "execute_result"
    }
   ],
   "source": [
    "crisis_data_raw['Use of Force Indicator'].value_counts()"
   ]
  },
  {
   "cell_type": "code",
   "execution_count": 90,
   "metadata": {},
   "outputs": [
    {
     "data": {
      "text/plain": [
       "Use of Force Indicator\n",
       "N    76763\n",
       "Y     1374\n",
       "Name: Officer Race, dtype: int64"
      ]
     },
     "execution_count": 90,
     "metadata": {},
     "output_type": "execute_result"
    }
   ],
   "source": [
    "crisis_data_raw.groupby(['Use of Force Indicator'])['Officer Race'].count()"
   ]
  },
  {
   "cell_type": "code",
   "execution_count": 92,
   "metadata": {},
   "outputs": [
    {
     "data": {
      "text/plain": [
       "White                            0.712556\n",
       "Two or More Races                0.065475\n",
       "Asian                            0.058666\n",
       "Black or African American        0.056746\n",
       "Hispanic or Latino               0.053752\n",
       "Not Specified                    0.023075\n",
       "Nat Hawaiian/Oth Pac Islander    0.014014\n",
       "American Indian/Alaska Native    0.013464\n",
       "Unknown                          0.002252\n",
       "Name: Officer Race, dtype: float64"
      ]
     },
     "execution_count": 92,
     "metadata": {},
     "output_type": "execute_result"
    }
   ],
   "source": [
    "crisis_data_raw['Officer Race'].value_counts(normalize=True)"
   ]
  },
  {
   "cell_type": "code",
   "execution_count": 98,
   "metadata": {},
   "outputs": [
    {
     "data": {
      "text/plain": [
       "Use of Force Indicator  Officer Race                 \n",
       "N                       American Indian/Alaska Native    0.013496\n",
       "                        Asian                            0.058739\n",
       "                        Black or African American        0.057007\n",
       "                        Hispanic or Latino               0.054128\n",
       "                        Nat Hawaiian/Oth Pac Islander    0.014108\n",
       "                        Not Specified                    0.023162\n",
       "                        Two or More Races                0.065591\n",
       "                        Unknown                          0.002267\n",
       "                        White                            0.711502\n",
       "Y                       American Indian/Alaska Native    0.011645\n",
       "                        Asian                            0.054585\n",
       "                        Black or African American        0.042213\n",
       "                        Hispanic or Latino               0.032751\n",
       "                        Nat Hawaiian/Oth Pac Islander    0.008734\n",
       "                        Not Specified                    0.018195\n",
       "                        Two or More Races                0.058952\n",
       "                        Unknown                          0.001456\n",
       "                        White                            0.771470\n",
       "Name: Template ID, dtype: float64"
      ]
     },
     "execution_count": 98,
     "metadata": {},
     "output_type": "execute_result"
    }
   ],
   "source": [
    "crisis_data_raw.groupby(['Use of Force Indicator','Officer Race'])['Template ID'].count()/crisis_data_raw.groupby(['Use of Force Indicator'])['Template ID'].count()"
   ]
  },
  {
   "cell_type": "code",
   "execution_count": 99,
   "metadata": {},
   "outputs": [
    {
     "data": {
      "text/plain": [
       "Officer Race                   Use of Force Indicator\n",
       "American Indian/Alaska Native  N                         0.984791\n",
       "                               Y                         0.015209\n",
       "Asian                          N                         0.983639\n",
       "                               Y                         0.016361\n",
       "Black or African American      N                         0.986919\n",
       "                               Y                         0.013081\n",
       "Hispanic or Latino             N                         0.989286\n",
       "                               Y                         0.010714\n",
       "Nat Hawaiian/Oth Pac Islander  N                         0.989041\n",
       "                               Y                         0.010959\n",
       "Not Specified                  N                         0.986134\n",
       "                               Y                         0.013866\n",
       "Two or More Races              N                         0.984167\n",
       "                               Y                         0.015833\n",
       "Unknown                        N                         0.988636\n",
       "                               Y                         0.011364\n",
       "White                          N                         0.980962\n",
       "                               Y                         0.019038\n",
       "Name: Template ID, dtype: float64"
      ]
     },
     "execution_count": 99,
     "metadata": {},
     "output_type": "execute_result"
    }
   ],
   "source": [
    "crisis_data_raw.groupby(['Officer Race','Use of Force Indicator'])['Template ID'].count()/crisis_data_raw.groupby(['Officer Race'])['Template ID'].count()"
   ]
  },
  {
   "cell_type": "code",
   "execution_count": 102,
   "metadata": {},
   "outputs": [
    {
     "data": {
      "text/plain": [
       "West         3200\n",
       "North        2808\n",
       "East         2016\n",
       "South        2007\n",
       "-             765\n",
       "Southwest     653\n",
       "X             369\n",
       "Name: Precinct, dtype: int64"
      ]
     },
     "execution_count": 102,
     "metadata": {},
     "output_type": "execute_result"
    }
   ],
   "source": [
    "useforce_raw_data['Precinct'].value_counts()"
   ]
  },
  {
   "cell_type": "code",
   "execution_count": 104,
   "metadata": {},
   "outputs": [
    {
     "data": {
      "text/plain": [
       "Precinct   Sector \n",
       "East       CHARLIE     329\n",
       "           EDWARD     1100\n",
       "           GEORGE      587\n",
       "North      BOY         446\n",
       "           JOHN        403\n",
       "           LINCOLN     572\n",
       "           NORA        792\n",
       "           UNION       595\n",
       "South      OCEAN       419\n",
       "           ROBERT      746\n",
       "           SAM         841\n",
       "           UNION         1\n",
       "Southwest  FRANK       399\n",
       "           WILLIAM     254\n",
       "West       DAVID       837\n",
       "           KING       1212\n",
       "           MARY        748\n",
       "           QUEEN       403\n",
       "Name: ID, dtype: int64"
      ]
     },
     "execution_count": 104,
     "metadata": {},
     "output_type": "execute_result"
    }
   ],
   "source": [
    "useforce_raw_data.groupby(['Precinct','Sector'])['ID'].count()"
   ]
  },
  {
   "cell_type": "code",
   "execution_count": 127,
   "metadata": {},
   "outputs": [
    {
     "data": {
      "text/html": [
       "<div>\n",
       "<style scoped>\n",
       "    .dataframe tbody tr th:only-of-type {\n",
       "        vertical-align: middle;\n",
       "    }\n",
       "\n",
       "    .dataframe tbody tr th {\n",
       "        vertical-align: top;\n",
       "    }\n",
       "\n",
       "    .dataframe thead th {\n",
       "        text-align: right;\n",
       "    }\n",
       "</style>\n",
       "<table border=\"1\" class=\"dataframe\">\n",
       "  <thead>\n",
       "    <tr style=\"text-align: right;\">\n",
       "      <th></th>\n",
       "      <th>Use of Force Indicator</th>\n",
       "      <th>Officer Years of Experience</th>\n",
       "      <th>Template ID</th>\n",
       "    </tr>\n",
       "  </thead>\n",
       "  <tbody>\n",
       "    <tr>\n",
       "      <th>0</th>\n",
       "      <td>N</td>\n",
       "      <td>-48</td>\n",
       "      <td>1</td>\n",
       "    </tr>\n",
       "    <tr>\n",
       "      <th>1</th>\n",
       "      <td>N</td>\n",
       "      <td>-9</td>\n",
       "      <td>1</td>\n",
       "    </tr>\n",
       "    <tr>\n",
       "      <th>2</th>\n",
       "      <td>N</td>\n",
       "      <td>-8</td>\n",
       "      <td>3</td>\n",
       "    </tr>\n",
       "    <tr>\n",
       "      <th>3</th>\n",
       "      <td>N</td>\n",
       "      <td>-7</td>\n",
       "      <td>3</td>\n",
       "    </tr>\n",
       "    <tr>\n",
       "      <th>4</th>\n",
       "      <td>N</td>\n",
       "      <td>-6</td>\n",
       "      <td>2</td>\n",
       "    </tr>\n",
       "    <tr>\n",
       "      <th>...</th>\n",
       "      <td>...</td>\n",
       "      <td>...</td>\n",
       "      <td>...</td>\n",
       "    </tr>\n",
       "    <tr>\n",
       "      <th>129</th>\n",
       "      <td>Y</td>\n",
       "      <td>57</td>\n",
       "      <td>3</td>\n",
       "    </tr>\n",
       "    <tr>\n",
       "      <th>130</th>\n",
       "      <td>Y</td>\n",
       "      <td>59</td>\n",
       "      <td>1</td>\n",
       "    </tr>\n",
       "    <tr>\n",
       "      <th>131</th>\n",
       "      <td>Y</td>\n",
       "      <td>63</td>\n",
       "      <td>1</td>\n",
       "    </tr>\n",
       "    <tr>\n",
       "      <th>132</th>\n",
       "      <td>Y</td>\n",
       "      <td>70</td>\n",
       "      <td>1</td>\n",
       "    </tr>\n",
       "    <tr>\n",
       "      <th>133</th>\n",
       "      <td>Y</td>\n",
       "      <td>73</td>\n",
       "      <td>1</td>\n",
       "    </tr>\n",
       "  </tbody>\n",
       "</table>\n",
       "<p>134 rows × 3 columns</p>\n",
       "</div>"
      ],
      "text/plain": [
       "    Use of Force Indicator  Officer Years of Experience  Template ID\n",
       "0                        N                          -48            1\n",
       "1                        N                           -9            1\n",
       "2                        N                           -8            3\n",
       "3                        N                           -7            3\n",
       "4                        N                           -6            2\n",
       "..                     ...                          ...          ...\n",
       "129                      Y                           57            3\n",
       "130                      Y                           59            1\n",
       "131                      Y                           63            1\n",
       "132                      Y                           70            1\n",
       "133                      Y                           73            1\n",
       "\n",
       "[134 rows x 3 columns]"
      ]
     },
     "execution_count": 127,
     "metadata": {},
     "output_type": "execute_result"
    }
   ],
   "source": [
    "pd.DataFrame(crisis_data_raw.groupby(['Use of Force Indicator',\n",
    "                                      'Officer Years of Experience'])['Template ID'].count().reset_index())"
   ]
  },
  {
   "cell_type": "code",
   "execution_count": 117,
   "metadata": {},
   "outputs": [
    {
     "data": {
      "text/plain": [
       "<matplotlib.axes._subplots.AxesSubplot at 0x7f8ac8254090>"
      ]
     },
     "execution_count": 117,
     "metadata": {},
     "output_type": "execute_result"
    },
    {
     "data": {
      "image/png": "[encoded data removed]",
      "text/plain": [
       "<Figure size 432x288 with 1 Axes>"
      ]
     },
     "metadata": {
      "needs_background": "light"
     },
     "output_type": "display_data"
    }
   ],
   "source": [
    "crisis_data_raw.loc[crisis_data_raw['Use of Force Indicator'] == 'Y', 'Officer Years of Experience'].value_counts().plot.hist(bins=50)"
   ]
  },
  {
   "cell_type": "code",
   "execution_count": 109,
   "metadata": {},
   "outputs": [
    {
     "data": {
      "text/plain": [
       "SUICIDE - IP/JO SUICIDAL PERSON AND ATTEMPTS      13941\n",
       "PERSON IN BEHAVIORAL/EMOTIONAL CRISIS             13466\n",
       "DISTURBANCE, MISCELLANEOUS/OTHER                   6983\n",
       "-                                                  6754\n",
       "SUSPICIOUS PERSON, VEHICLE OR INCIDENT             2540\n",
       "                                                  ...  \n",
       "ILLEGAL DUMPING                                       1\n",
       "WARRANT - SEARCH. EXECUTED, SECURED                   1\n",
       "TRU - MVC - HIT AND RUN                               1\n",
       "KNOWN KIDNAPPNG                                       1\n",
       "HZMAT - HAZ MATERIALS, LEAKS, SPILLS, OR FOUND        1\n",
       "Name: Initial Call Type, Length: 169, dtype: int64"
      ]
     },
     "execution_count": 109,
     "metadata": {},
     "output_type": "execute_result"
    }
   ],
   "source": [
    "crisis_data_raw['Initial Call Type'].value_counts()"
   ]
  },
  {
   "cell_type": "code",
   "execution_count": 110,
   "metadata": {},
   "outputs": [
    {
     "data": {
      "text/plain": [
       "Use of Force Indicator  Initial Call Type                             \n",
       "N                       -                                                 6716\n",
       "                        -ASSIGNED DUTY - FOOT BEAT (FROM ASSIGNED CAR)       2\n",
       "                        -ASSIGNED DUTY - OTHER ESCORT                        1\n",
       "                        -ASSIGNED DUTY - REPORTS                             2\n",
       "                        ABDUCTION - IP/JO - UNK KIDNAPPING                   2\n",
       "                                                                          ... \n",
       "Y                       UNKNOWN - COMPLAINT OF UNKNOWN NATURE               18\n",
       "                        WARRANT - FELONY PICKUP                              3\n",
       "                        WARRANT - MISD WARRANT PICKUP                        2\n",
       "                        WEAPN - GUN,DEADLY WPN (NO THRTS/ASLT/DIST)          7\n",
       "                        WEAPN-IP/JO-GUN,DEADLY WPN (NO THRT/ASLT/DIST)      47\n",
       "Name: Template ID, Length: 251, dtype: int64"
      ]
     },
     "execution_count": 110,
     "metadata": {},
     "output_type": "execute_result"
    }
   ],
   "source": [
    "crisis_data_raw.groupby(['Use of Force Indicator','Initial Call Type'])['Template ID'].count()"
   ]
  },
  {
   "cell_type": "code",
   "execution_count": 113,
   "metadata": {
    "scrolled": true
   },
   "outputs": [
    {
     "data": {
      "text/plain": [
       "<matplotlib.axes._subplots.AxesSubplot at 0x7f8ac88e81d0>"
      ]
     },
     "execution_count": 113,
     "metadata": {},
     "output_type": "execute_result"
    },
    {
     "data": {
      "image/png": "[encoded data removed]",
      "text/plain": [
       "<Figure size 432x288 with 1 Axes>"
      ]
     },
     "metadata": {
      "needs_background": "light"
     },
     "output_type": "display_data"
    }
   ],
   "source": [
    "crisis_data_raw.loc[crisis_data_raw['Use of Force Indicator'] == 'Y', 'Initial Call Type'].value_counts().plot.bar()"
   ]
  },
  {
   "cell_type": "code",
   "execution_count": 128,
   "metadata": {},
   "outputs": [
    {
     "data": {
      "text/html": [
       "<div>\n",
       "<style scoped>\n",
       "    .dataframe tbody tr th:only-of-type {\n",
       "        vertical-align: middle;\n",
       "    }\n",
       "\n",
       "    .dataframe tbody tr th {\n",
       "        vertical-align: top;\n",
       "    }\n",
       "\n",
       "    .dataframe thead th {\n",
       "        text-align: right;\n",
       "    }\n",
       "</style>\n",
       "<table border=\"1\" class=\"dataframe\">\n",
       "  <thead>\n",
       "    <tr style=\"text-align: right;\">\n",
       "      <th></th>\n",
       "      <th>FRB #</th>\n",
       "      <th>Incident Number</th>\n",
       "      <th>Date / Time</th>\n",
       "      <th>Blurred Address</th>\n",
       "      <th>Longitude</th>\n",
       "      <th>Latitude</th>\n",
       "      <th>City</th>\n",
       "      <th>State</th>\n",
       "      <th>Rank</th>\n",
       "      <th>Officer Gender</th>\n",
       "      <th>...</th>\n",
       "      <th>Subject Race</th>\n",
       "      <th>Subject DOB</th>\n",
       "      <th>Subject Age</th>\n",
       "      <th>Subject Weapon</th>\n",
       "      <th>Type of Weapon</th>\n",
       "      <th>Fatal</th>\n",
       "      <th>On-duty</th>\n",
       "      <th>Disposition</th>\n",
       "      <th>Officer Disciplined?</th>\n",
       "      <th>Summary</th>\n",
       "    </tr>\n",
       "  </thead>\n",
       "  <tbody>\n",
       "    <tr>\n",
       "      <th>0</th>\n",
       "      <td>FRB 05-01</td>\n",
       "      <td>20050000118193</td>\n",
       "      <td>03/21/2005 06:28:00 PM</td>\n",
       "      <td>65XX BLOCK OF RAINIER AV S</td>\n",
       "      <td>-122.273741</td>\n",
       "      <td>47.543815</td>\n",
       "      <td>Seattle</td>\n",
       "      <td>WA</td>\n",
       "      <td>Officer</td>\n",
       "      <td>Male</td>\n",
       "      <td>...</td>\n",
       "      <td>Asian</td>\n",
       "      <td>1975-11-03T00:00:00.000</td>\n",
       "      <td>29</td>\n",
       "      <td>Yes</td>\n",
       "      <td>Knife</td>\n",
       "      <td>Yes</td>\n",
       "      <td>Yes</td>\n",
       "      <td>Missing</td>\n",
       "      <td>Missing</td>\n",
       "      <td>On March 21st, 2005, at approximately 5:20 P.M...</td>\n",
       "    </tr>\n",
       "    <tr>\n",
       "      <th>1</th>\n",
       "      <td>FRB 05-03</td>\n",
       "      <td>20050000174022</td>\n",
       "      <td>04/29/2005 03:30:00 AM</td>\n",
       "      <td>65XX BLOCK OF 1 AV S</td>\n",
       "      <td>-122.334513</td>\n",
       "      <td>47.544177</td>\n",
       "      <td>Seattle</td>\n",
       "      <td>WA</td>\n",
       "      <td>Officer</td>\n",
       "      <td>Male</td>\n",
       "      <td>...</td>\n",
       "      <td>White</td>\n",
       "      <td>1969-08-02T00:00:00.000</td>\n",
       "      <td>36</td>\n",
       "      <td>No</td>\n",
       "      <td>NaN</td>\n",
       "      <td>Yes</td>\n",
       "      <td>Yes</td>\n",
       "      <td>Justified</td>\n",
       "      <td>No</td>\n",
       "      <td>On April 29th, 2005, at approximately 3:35 A.M...</td>\n",
       "    </tr>\n",
       "    <tr>\n",
       "      <th>2</th>\n",
       "      <td>FRB 05-04</td>\n",
       "      <td>20050000256303</td>\n",
       "      <td>06/20/2005 11:30:00 AM</td>\n",
       "      <td>7XX BLOCK OF STEWART ST</td>\n",
       "      <td>-122.335725</td>\n",
       "      <td>47.614620</td>\n",
       "      <td>Seattle</td>\n",
       "      <td>WA</td>\n",
       "      <td>Officer</td>\n",
       "      <td>Male</td>\n",
       "      <td>...</td>\n",
       "      <td>White</td>\n",
       "      <td>1952-11-15T00:00:00.000</td>\n",
       "      <td>53</td>\n",
       "      <td>Yes</td>\n",
       "      <td>Grenade, backpack reported to have explosives</td>\n",
       "      <td>Yes</td>\n",
       "      <td>Yes</td>\n",
       "      <td>Justified</td>\n",
       "      <td>No</td>\n",
       "      <td>On June 20th, 2005, at approximately 11:30 A.M...</td>\n",
       "    </tr>\n",
       "    <tr>\n",
       "      <th>3</th>\n",
       "      <td>FRB 05-04</td>\n",
       "      <td>20050000256303</td>\n",
       "      <td>06/20/2005 12:30:00 PM</td>\n",
       "      <td>7XX BLOCK OF STEWART ST</td>\n",
       "      <td>-122.335725</td>\n",
       "      <td>47.614620</td>\n",
       "      <td>Seattle</td>\n",
       "      <td>WA</td>\n",
       "      <td>Officer</td>\n",
       "      <td>Male</td>\n",
       "      <td>...</td>\n",
       "      <td>White</td>\n",
       "      <td>1952-11-15T00:00:00.000</td>\n",
       "      <td>53</td>\n",
       "      <td>Yes</td>\n",
       "      <td>Grenade, backpack reported to have explosives</td>\n",
       "      <td>Yes</td>\n",
       "      <td>Yes</td>\n",
       "      <td>Justified</td>\n",
       "      <td>No</td>\n",
       "      <td>On June 20th, 2005, at approximately 11:30 A.M...</td>\n",
       "    </tr>\n",
       "    <tr>\n",
       "      <th>4</th>\n",
       "      <td>FRB 05-05</td>\n",
       "      <td>20050000286240</td>\n",
       "      <td>07/08/2005 01:48:00 PM</td>\n",
       "      <td>16 AV / E UNION ST</td>\n",
       "      <td>-122.311474</td>\n",
       "      <td>47.612908</td>\n",
       "      <td>Seattle</td>\n",
       "      <td>WA</td>\n",
       "      <td>Officer</td>\n",
       "      <td>Male</td>\n",
       "      <td>...</td>\n",
       "      <td>Black or African American</td>\n",
       "      <td>1957-01-28T00:00:00.000</td>\n",
       "      <td>48</td>\n",
       "      <td>Yes</td>\n",
       "      <td>Screwdriver</td>\n",
       "      <td>No</td>\n",
       "      <td>Yes</td>\n",
       "      <td>Justified</td>\n",
       "      <td>No</td>\n",
       "      <td>On July 8th, 2005, at approximately 1:45 P.M.,...</td>\n",
       "    </tr>\n",
       "  </tbody>\n",
       "</table>\n",
       "<p>5 rows × 25 columns</p>\n",
       "</div>"
      ],
      "text/plain": [
       "       FRB #  Incident Number             Date / Time  \\\n",
       "0  FRB 05-01   20050000118193  03/21/2005 06:28:00 PM   \n",
       "1  FRB 05-03   20050000174022  04/29/2005 03:30:00 AM   \n",
       "2  FRB 05-04   20050000256303  06/20/2005 11:30:00 AM   \n",
       "3  FRB 05-04   20050000256303  06/20/2005 12:30:00 PM   \n",
       "4  FRB 05-05   20050000286240  07/08/2005 01:48:00 PM   \n",
       "\n",
       "              Blurred Address   Longitude   Latitude     City State     Rank  \\\n",
       "0  65XX BLOCK OF RAINIER AV S -122.273741  47.543815  Seattle    WA  Officer   \n",
       "1        65XX BLOCK OF 1 AV S -122.334513  47.544177  Seattle    WA  Officer   \n",
       "2     7XX BLOCK OF STEWART ST -122.335725  47.614620  Seattle    WA  Officer   \n",
       "3     7XX BLOCK OF STEWART ST -122.335725  47.614620  Seattle    WA  Officer   \n",
       "4          16 AV / E UNION ST -122.311474  47.612908  Seattle    WA  Officer   \n",
       "\n",
       "  Officer Gender  ...               Subject Race              Subject DOB  \\\n",
       "0           Male  ...                      Asian  1975-11-03T00:00:00.000   \n",
       "1           Male  ...                      White  1969-08-02T00:00:00.000   \n",
       "2           Male  ...                      White  1952-11-15T00:00:00.000   \n",
       "3           Male  ...                      White  1952-11-15T00:00:00.000   \n",
       "4           Male  ...  Black or African American  1957-01-28T00:00:00.000   \n",
       "\n",
       "  Subject Age Subject Weapon                                 Type of Weapon  \\\n",
       "0          29            Yes                                          Knife   \n",
       "1          36             No                                            NaN   \n",
       "2          53            Yes  Grenade, backpack reported to have explosives   \n",
       "3          53            Yes  Grenade, backpack reported to have explosives   \n",
       "4          48            Yes                                    Screwdriver   \n",
       "\n",
       "  Fatal On-duty Disposition Officer Disciplined?  \\\n",
       "0   Yes     Yes     Missing              Missing   \n",
       "1   Yes     Yes   Justified                   No   \n",
       "2   Yes     Yes   Justified                   No   \n",
       "3   Yes     Yes   Justified                   No   \n",
       "4    No     Yes   Justified                   No   \n",
       "\n",
       "                                             Summary  \n",
       "0  On March 21st, 2005, at approximately 5:20 P.M...  \n",
       "1  On April 29th, 2005, at approximately 3:35 A.M...  \n",
       "2  On June 20th, 2005, at approximately 11:30 A.M...  \n",
       "3  On June 20th, 2005, at approximately 11:30 A.M...  \n",
       "4  On July 8th, 2005, at approximately 1:45 P.M.,...  \n",
       "\n",
       "[5 rows x 25 columns]"
      ]
     },
     "execution_count": 128,
     "metadata": {},
     "output_type": "execute_result"
    }
   ],
   "source": [
    "shooting_raw_data.head()"
   ]
  },
  {
   "cell_type": "code",
   "execution_count": 129,
   "metadata": {},
   "outputs": [
    {
     "data": {
      "text/plain": [
       "Multiple    68\n",
       "2           28\n",
       "1           22\n",
       "3           12\n",
       "5            9\n",
       "4            4\n",
       "11           3\n",
       "16           3\n",
       "8            2\n",
       "6            2\n",
       "7            1\n",
       "9            1\n",
       "14           1\n",
       "Name: Number of Rounds, dtype: int64"
      ]
     },
     "execution_count": 129,
     "metadata": {},
     "output_type": "execute_result"
    }
   ],
   "source": [
    "shooting_raw_data['Number of Rounds'].value_counts()"
   ]
  },
  {
   "cell_type": "code",
   "execution_count": 132,
   "metadata": {},
   "outputs": [
    {
     "data": {
      "text/plain": [
       "<matplotlib.axes._subplots.AxesSubplot at 0x7f8ac791fed0>"
      ]
     },
     "execution_count": 132,
     "metadata": {},
     "output_type": "execute_result"
    },
    {
     "data": {
      "image/png": "[encoded data removed]",
      "text/plain": [
       "<Figure size 432x288 with 1 Axes>"
      ]
     },
     "metadata": {
      "needs_background": "light"
     },
     "output_type": "display_data"
    }
   ],
   "source": [
    "shooting_raw_data['Years of SPD Service'].value_counts().plot.hist(bins=30)"
   ]
  },
  {
   "cell_type": "code",
   "execution_count": 136,
   "metadata": {},
   "outputs": [
    {
     "data": {
      "image/png": "[encoded data removed]",
      "text/plain": [
       "<Figure size 432x288 with 1 Axes>"
      ]
     },
     "metadata": {
      "needs_background": "light"
     },
     "output_type": "display_data"
    }
   ],
   "source": [
    "shooting_raw_data.plot(kind=\"scatter\", x=\"Longitude\", y=\"Latitude\", alpha=0.4)\n",
    "plt.xlim(-122.5, -122)\n",
    "plt.ylim(47.2, 47.8)\n",
    "plt.show()"
   ]
  },
  {
   "cell_type": "code",
   "execution_count": null,
   "metadata": {},
   "outputs": [],
   "source": []
  }
 ],
 "metadata": {
  "kernelspec": {
   "display_name": "Python [conda env:data558] *",
   "language": "python",
   "name": "conda-env-data558-py"
  },
  "language_info": {
   "codemirror_mode": {
    "name": "ipython",
    "version": 3
   },
   "file_extension": ".py",
   "mimetype": "text/x-python",
   "name": "python",
   "nbconvert_exporter": "python",
   "pygments_lexer": "ipython3",
   "version": "3.7.7"
  }
 },
 "nbformat": 4,
 "nbformat_minor": 4
}
